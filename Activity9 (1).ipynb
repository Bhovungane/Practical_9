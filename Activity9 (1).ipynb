{
 "cells": [
  {
   "cell_type": "code",
   "execution_count": 1,
   "id": "7f888057-bcb7-46c0-90ab-da4abb309a81",
   "metadata": {},
   "outputs": [
    {
     "data": {
      "text/plain": [
       "1.0"
      ]
     },
     "execution_count": 1,
     "metadata": {},
     "output_type": "execute_result"
    }
   ],
   "source": [
    "1. #Python Programs for Bubble Sort and Insertion Sort\n",
    "Given the following elements 10, 7, 26, 43, 3, 13, 11\n"
   ]
  },
  {
   "cell_type": "code",
   "execution_count": 2,
   "id": "d632a023-50e3-4897-b24f-1cc2f0fd72bb",
   "metadata": {},
   "outputs": [
    {
     "name": "stdout",
     "output_type": "stream",
     "text": [
      "Bubble Sort: [3, 7, 10, 11, 13, 26, 43]\n"
     ]
    }
   ],
   "source": [
    "def bubble_sort(arr):\n",
    "    n = len(arr)\n",
    "    for i in range(n):\n",
    "        for j in range(0, n-i-1):\n",
    "            if arr[j] > arr[j+1]:\n",
    "                arr[j], arr[j+1] = arr[j+1], arr[j]\n",
    "    return arr\n",
    "\n",
    "# Test the bubble sort function\n",
    "elements = [10, 7, 26, 43, 3, 13, 11]\n",
    "sorted_elements_bubble = bubble_sort(elements.copy())\n",
    "print(\"Bubble Sort:\", sorted_elements_bubble)"
   ]
  },
  {
   "cell_type": "code",
   "execution_count": 4,
   "id": "91c354b9-0579-4984-91d0-d640a46f0e27",
   "metadata": {},
   "outputs": [
    {
     "name": "stdout",
     "output_type": "stream",
     "text": [
      "Insertion Sort: [3, 7, 10, 11, 13, 26, 43]\n"
     ]
    }
   ],
   "source": [
    "\n",
    "#Insertion Sort\n",
    "#Insertion sort builds the final sorted array one item at a time. \n",
    "#It is much less efficient on large lists than more advanced algorithms such as quicksort, heapsort, or merge sort.#\n",
    "\n",
    "def insertion_sort(arr):\n",
    "    for i in range(1, len(arr)):\n",
    "        key = arr[i]\n",
    "        j = i - 1\n",
    "        while j >= 0 and key < arr[j]:\n",
    "            arr[j + 1] = arr[j]\n",
    "            j -= 1\n",
    "        arr[j + 1] = key\n",
    "    return arr\n",
    "\n",
    "# Test the insertion sort function\n",
    "sorted_elements_insertion = insertion_sort(elements.copy())\n",
    "print(\"Insertion Sort:\", sorted_elements_insertion)"
   ]
  },
  {
   "cell_type": "code",
   "execution_count": 5,
   "id": "15d0d9a2-72a9-457c-8729-5ce04354f1d7",
   "metadata": {},
   "outputs": [
    {
     "name": "stdout",
     "output_type": "stream",
     "text": [
      "Build Max Heap: [10, 7, 26, 43, 3, 13, 11]\n",
      "Build Max Heap: [10, 43, 26, 7, 3, 13, 11]\n",
      "Build Max Heap: [43, 10, 26, 7, 3, 13, 11]\n",
      "Swap and Extract Max: [11, 10, 26, 7, 3, 13, 43]\n",
      "Heapify: [26, 10, 13, 7, 3, 11, 43]\n",
      "Swap and Extract Max: [11, 10, 13, 7, 3, 26, 43]\n",
      "Heapify: [13, 10, 11, 7, 3, 26, 43]\n",
      "Swap and Extract Max: [3, 10, 11, 7, 13, 26, 43]\n",
      "Heapify: [11, 10, 3, 7, 13, 26, 43]\n",
      "Swap and Extract Max: [7, 10, 3, 11, 13, 26, 43]\n",
      "Heapify: [10, 7, 3, 11, 13, 26, 43]\n",
      "Swap and Extract Max: [3, 7, 10, 11, 13, 26, 43]\n",
      "Heapify: [7, 3, 10, 11, 13, 26, 43]\n",
      "Swap and Extract Max: [3, 7, 10, 11, 13, 26, 43]\n",
      "Heapify: [3, 7, 10, 11, 13, 26, 43]\n",
      "Heap Sort: [3, 7, 10, 11, 13, 26, 43]\n"
     ]
    }
   ],
   "source": [
    "2. #Heap Sort with Iterations\n",
    "#Heap sort involves building a heap from the input data and then repeatedly extracting the maximum element from the heap and reconstructing the heap.\n",
    "#Here, I will show each step of the heap construction and sort process.\n",
    "def heapify(arr, n, i):\n",
    "    largest = i  # Initialize largest as root\n",
    "    left = 2 * i + 1  # left = 2*i + 1\n",
    "    right = 2 * i + 2  # right = 2*i + 2\n",
    "\n",
    "    if left < n and arr[left] > arr[largest]:\n",
    "        largest = left\n",
    "\n",
    "    if right < n and arr[right] > arr[largest]:\n",
    "        largest = right\n",
    "\n",
    "    if largest != i:\n",
    "        arr[i], arr[largest] = arr[largest], arr[i]\n",
    "        heapify(arr, n, largest)\n",
    "\n",
    "def heap_sort(arr):\n",
    "    n = len(arr)\n",
    "\n",
    "    # Build a maxheap\n",
    "    for i in range(n // 2 - 1, -1, -1):\n",
    "        heapify(arr, n, i)\n",
    "        print(\"Build Max Heap:\", arr)\n",
    "\n",
    "    # One by one extract elements\n",
    "    for i in range(n-1, 0, -1):\n",
    "        arr[i], arr[0] = arr[0], arr[i]  # swap\n",
    "        print(\"Swap and Extract Max:\", arr)\n",
    "        heapify(arr, i, 0)\n",
    "        print(\"Heapify:\", arr)\n",
    "\n",
    "    return arr\n",
    "\n",
    "\n",
    "# Test the heap sort function\n",
    "sorted_elements_heap = heap_sort(elements.copy())\n",
    "print(\"Heap Sort:\", sorted_elements_heap)"
   ]
  },
  {
   "cell_type": "code",
   "execution_count": 6,
   "id": "57a8f051-ebac-4b03-897b-06f6ffdfa71b",
   "metadata": {},
   "outputs": [
    {
     "name": "stdout",
     "output_type": "stream",
     "text": [
      "Binary Search: Element 13 is at index 4 in sorted list [3, 7, 10, 11, 13, 26, 43]\n"
     ]
    }
   ],
   "source": [
    "3.# Binary Search Program\n",
    "def binary_search(arr, x):\n",
    "    low = 0\n",
    "    high = len(arr) - 1\n",
    "    mid = 0\n",
    "\n",
    "    while low <= high:\n",
    "        mid = (high + low) // 2\n",
    "\n",
    "        if arr[mid] < x:\n",
    "            low = mid + 1\n",
    "        elif arr[mid] > x:\n",
    "            high = mid - 1\n",
    "        else:\n",
    "            return mid\n",
    "\n",
    "    return -1\n",
    "\n",
    "# Test the binary search function\n",
    "sorted_elements = sorted(elements)  # Binary search requires a sorted array\n",
    "element_to_search = 13\n",
    "index = binary_search(sorted_elements, element_to_search)\n",
    "print(f\"Binary Search: Element {element_to_search} is at index {index} in sorted list {sorted_elements}\")"
   ]
  },
  {
   "cell_type": "markdown",
   "id": "77f5099e-de35-40a7-a8eb-2a9569427da9",
   "metadata": {},
   "source": [
    "4.# Explanation of Linear Search Algorithm\n",
    "Linear search is the simplest search algorithm. It checks every element of the list until it finds a match or reaches the end of the list.\n",
    "\n",
    "Algorithm:\n",
    "\n",
    "Start at the first element of the list.\n",
    "Compare the current element with the target element.\n",
    "If the current element is the target element, return its index.\n",
    "If the current element is not the target element, move to the next element.\n",
    "Repeat steps 2-4 until the target element is found or the end of the list is reached.\n",
    "If the end of the list is reached and the target element has not been found, return -1 indicating the element is not in the list.\n",
    "Time Complexity: O(n) in the worst case, where n is the number of elements in the list.\n",
    "\n",
    "\n",
    "\n",
    "\n",
    "\n",
    "\n",
    "\n"
   ]
  },
  {
   "cell_type": "code",
   "execution_count": null,
   "id": "6f89921b-8c99-4701-b3c9-f2342c5eca02",
   "metadata": {},
   "outputs": [],
   "source": []
  }
 ],
 "metadata": {
  "kernelspec": {
   "display_name": "Python 3 (ipykernel)",
   "language": "python",
   "name": "python3"
  },
  "language_info": {
   "codemirror_mode": {
    "name": "ipython",
    "version": 3
   },
   "file_extension": ".py",
   "mimetype": "text/x-python",
   "name": "python",
   "nbconvert_exporter": "python",
   "pygments_lexer": "ipython3",
   "version": "3.12.2"
  }
 },
 "nbformat": 4,
 "nbformat_minor": 5
}
